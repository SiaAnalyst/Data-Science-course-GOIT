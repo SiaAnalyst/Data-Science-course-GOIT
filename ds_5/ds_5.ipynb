{
 "cells": [
  {
   "cell_type": "code",
   "execution_count": 1,
   "id": "34c453d9",
   "metadata": {},
   "outputs": [],
   "source": [
    "import os\n",
    "import pandas as pd\n",
    "from sklearn.svm import SVC\n",
    "from sklearn.ensemble import RandomForestClassifier\n",
    "from sklearn.metrics import accuracy_score\n",
    "from sklearn.model_selection import train_test_split\n",
    "from sklearn.metrics import classification_report"
   ]
  },
  {
   "cell_type": "markdown",
   "id": "e9508f64",
   "metadata": {},
   "source": [
    "#### Dataset creation"
   ]
  },
  {
   "cell_type": "code",
   "execution_count": 2,
   "id": "9c863856",
   "metadata": {},
   "outputs": [],
   "source": [
    "hw5_data = 'data'"
   ]
  },
  {
   "cell_type": "code",
   "execution_count": 3,
   "id": "2c0fa2f1",
   "metadata": {},
   "outputs": [],
   "source": [
    "all_data = pd.DataFrame()"
   ]
  },
  {
   "cell_type": "code",
   "execution_count": 4,
   "id": "2694b510",
   "metadata": {},
   "outputs": [],
   "source": [
    "for activity_folder in os.listdir(hw5_data):\n",
    "    activity_path = os.path.join(hw5_data, activity_folder)\n",
    "    if not os.path.isdir(activity_path):\n",
    "        continue\n",
    "    \n",
    "    for file_name in os.listdir(activity_path):\n",
    "        file_path = os.path.join(activity_path, file_name)\n",
    "        if not file_name.endswith('.csv'):\n",
    "            continue\n",
    "        \n",
    "        df = pd.read_csv(file_path)\n",
    "        \n",
    "        df['activity'] = activity_folder\n",
    "        \n",
    "        all_data = pd.concat([all_data, df], ignore_index=True)"
   ]
  },
  {
   "cell_type": "code",
   "execution_count": 5,
   "id": "cb497261",
   "metadata": {},
   "outputs": [
    {
     "data": {
      "text/html": [
       "<div>\n",
       "<style scoped>\n",
       "    .dataframe tbody tr th:only-of-type {\n",
       "        vertical-align: middle;\n",
       "    }\n",
       "\n",
       "    .dataframe tbody tr th {\n",
       "        vertical-align: top;\n",
       "    }\n",
       "\n",
       "    .dataframe thead th {\n",
       "        text-align: right;\n",
       "    }\n",
       "</style>\n",
       "<table border=\"1\" class=\"dataframe\">\n",
       "  <thead>\n",
       "    <tr style=\"text-align: right;\">\n",
       "      <th></th>\n",
       "      <th>accelerometer_X</th>\n",
       "      <th>accelerometer_Y</th>\n",
       "      <th>accelerometer_Z</th>\n",
       "      <th>activity</th>\n",
       "    </tr>\n",
       "  </thead>\n",
       "  <tbody>\n",
       "    <tr>\n",
       "      <th>0</th>\n",
       "      <td>3.778050</td>\n",
       "      <td>-17.065870</td>\n",
       "      <td>-22.409727</td>\n",
       "      <td>walking</td>\n",
       "    </tr>\n",
       "    <tr>\n",
       "      <th>1</th>\n",
       "      <td>5.774815</td>\n",
       "      <td>-2.930503</td>\n",
       "      <td>-0.296881</td>\n",
       "      <td>running</td>\n",
       "    </tr>\n",
       "    <tr>\n",
       "      <th>2</th>\n",
       "      <td>-2.485181</td>\n",
       "      <td>-2.049437</td>\n",
       "      <td>2.140417</td>\n",
       "      <td>walking</td>\n",
       "    </tr>\n",
       "    <tr>\n",
       "      <th>3</th>\n",
       "      <td>1.350330</td>\n",
       "      <td>-6.861782</td>\n",
       "      <td>-2.427720</td>\n",
       "      <td>running</td>\n",
       "    </tr>\n",
       "    <tr>\n",
       "      <th>4</th>\n",
       "      <td>-0.258574</td>\n",
       "      <td>-6.019023</td>\n",
       "      <td>-0.842759</td>\n",
       "      <td>walking</td>\n",
       "    </tr>\n",
       "  </tbody>\n",
       "</table>\n",
       "</div>"
      ],
      "text/plain": [
       "   accelerometer_X  accelerometer_Y  accelerometer_Z activity\n",
       "0         3.778050       -17.065870       -22.409727  walking\n",
       "1         5.774815        -2.930503        -0.296881  running\n",
       "2        -2.485181        -2.049437         2.140417  walking\n",
       "3         1.350330        -6.861782        -2.427720  running\n",
       "4        -0.258574        -6.019023        -0.842759  walking"
      ]
     },
     "execution_count": 5,
     "metadata": {},
     "output_type": "execute_result"
    }
   ],
   "source": [
    "all_data = all_data.sample(frac=1).reset_index(drop=True)\n",
    "all_data.head()"
   ]
  },
  {
   "cell_type": "code",
   "execution_count": 6,
   "id": "e377be57",
   "metadata": {},
   "outputs": [
    {
     "data": {
      "text/plain": [
       "(193860, 4)"
      ]
     },
     "execution_count": 6,
     "metadata": {},
     "output_type": "execute_result"
    }
   ],
   "source": [
    "all_data.shape"
   ]
  },
  {
   "cell_type": "code",
   "execution_count": 7,
   "id": "0df2c8e1",
   "metadata": {},
   "outputs": [
    {
     "data": {
      "text/html": [
       "<div>\n",
       "<style scoped>\n",
       "    .dataframe tbody tr th:only-of-type {\n",
       "        vertical-align: middle;\n",
       "    }\n",
       "\n",
       "    .dataframe tbody tr th {\n",
       "        vertical-align: top;\n",
       "    }\n",
       "\n",
       "    .dataframe thead th {\n",
       "        text-align: right;\n",
       "    }\n",
       "</style>\n",
       "<table border=\"1\" class=\"dataframe\">\n",
       "  <thead>\n",
       "    <tr style=\"text-align: right;\">\n",
       "      <th></th>\n",
       "      <th>accelerometer_X</th>\n",
       "      <th>accelerometer_Y</th>\n",
       "      <th>accelerometer_Z</th>\n",
       "    </tr>\n",
       "  </thead>\n",
       "  <tbody>\n",
       "    <tr>\n",
       "      <th>0</th>\n",
       "      <td>3.778050</td>\n",
       "      <td>-17.065870</td>\n",
       "      <td>-22.409727</td>\n",
       "    </tr>\n",
       "    <tr>\n",
       "      <th>1</th>\n",
       "      <td>5.774815</td>\n",
       "      <td>-2.930503</td>\n",
       "      <td>-0.296881</td>\n",
       "    </tr>\n",
       "    <tr>\n",
       "      <th>2</th>\n",
       "      <td>-2.485181</td>\n",
       "      <td>-2.049437</td>\n",
       "      <td>2.140417</td>\n",
       "    </tr>\n",
       "    <tr>\n",
       "      <th>3</th>\n",
       "      <td>1.350330</td>\n",
       "      <td>-6.861782</td>\n",
       "      <td>-2.427720</td>\n",
       "    </tr>\n",
       "    <tr>\n",
       "      <th>4</th>\n",
       "      <td>-0.258574</td>\n",
       "      <td>-6.019023</td>\n",
       "      <td>-0.842759</td>\n",
       "    </tr>\n",
       "  </tbody>\n",
       "</table>\n",
       "</div>"
      ],
      "text/plain": [
       "   accelerometer_X  accelerometer_Y  accelerometer_Z\n",
       "0         3.778050       -17.065870       -22.409727\n",
       "1         5.774815        -2.930503        -0.296881\n",
       "2        -2.485181        -2.049437         2.140417\n",
       "3         1.350330        -6.861782        -2.427720\n",
       "4        -0.258574        -6.019023        -0.842759"
      ]
     },
     "execution_count": 7,
     "metadata": {},
     "output_type": "execute_result"
    }
   ],
   "source": [
    "X = all_data.drop('activity', axis=1)\n",
    "X.head()"
   ]
  },
  {
   "cell_type": "code",
   "execution_count": 8,
   "id": "56d7d3a0",
   "metadata": {},
   "outputs": [
    {
     "data": {
      "text/plain": [
       "0    walking\n",
       "1    running\n",
       "2    walking\n",
       "3    running\n",
       "4    walking\n",
       "Name: activity, dtype: object"
      ]
     },
     "execution_count": 8,
     "metadata": {},
     "output_type": "execute_result"
    }
   ],
   "source": [
    "y = all_data['activity']\n",
    "y.head()"
   ]
  },
  {
   "cell_type": "markdown",
   "id": "e304fc56",
   "metadata": {},
   "source": [
    "#### Create test data"
   ]
  },
  {
   "cell_type": "code",
   "execution_count": 9,
   "id": "b763ba7d",
   "metadata": {},
   "outputs": [],
   "source": [
    "X_train, X_test, y_train, y_test = train_test_split(X, y, test_size=0.2, random_state=42)"
   ]
  },
  {
   "cell_type": "markdown",
   "id": "d1ef3f0c",
   "metadata": {},
   "source": [
    "#### Time features"
   ]
  },
  {
   "cell_type": "code",
   "execution_count": 10,
   "id": "2614700b",
   "metadata": {},
   "outputs": [],
   "source": [
    "X_train['time_mean'] = X_train.mean(axis=1)\n",
    "X_test['time_mean'] = X_test.mean(axis=1)"
   ]
  },
  {
   "cell_type": "markdown",
   "id": "a7be489a",
   "metadata": {},
   "source": [
    "#### Classifications"
   ]
  },
  {
   "cell_type": "code",
   "execution_count": 11,
   "id": "534fd4cb",
   "metadata": {},
   "outputs": [],
   "source": [
    "svm_model = SVC()\n",
    "rfc_model = RandomForestClassifier()"
   ]
  },
  {
   "cell_type": "markdown",
   "id": "0662c57d",
   "metadata": {},
   "source": [
    "#### SVM training"
   ]
  },
  {
   "cell_type": "code",
   "execution_count": 12,
   "id": "98a8705f",
   "metadata": {},
   "outputs": [
    {
     "name": "stdout",
     "output_type": "stream",
     "text": [
      "CPU times: user 8min 1s, sys: 2.9 s, total: 8min 4s\n",
      "Wall time: 8min 8s\n"
     ]
    },
    {
     "data": {
      "text/plain": [
       "SVC()"
      ]
     },
     "execution_count": 12,
     "metadata": {},
     "output_type": "execute_result"
    }
   ],
   "source": [
    "%%time\n",
    "svm_model.fit(X_train, y_train)"
   ]
  },
  {
   "cell_type": "markdown",
   "id": "dddf408f",
   "metadata": {},
   "source": [
    "#### RFC training"
   ]
  },
  {
   "cell_type": "code",
   "execution_count": 13,
   "id": "cd53b937",
   "metadata": {},
   "outputs": [
    {
     "name": "stdout",
     "output_type": "stream",
     "text": [
      "CPU times: user 17.6 s, sys: 111 ms, total: 17.7 s\n",
      "Wall time: 17.9 s\n"
     ]
    },
    {
     "data": {
      "text/plain": [
       "RandomForestClassifier()"
      ]
     },
     "execution_count": 13,
     "metadata": {},
     "output_type": "execute_result"
    }
   ],
   "source": [
    "%%time\n",
    "rfc_model.fit(X_train, y_train)"
   ]
  },
  {
   "cell_type": "markdown",
   "id": "38bc7b38",
   "metadata": {},
   "source": [
    "#### Prediction on test data"
   ]
  },
  {
   "cell_type": "code",
   "execution_count": 14,
   "id": "2e89fc5e",
   "metadata": {},
   "outputs": [
    {
     "name": "stdout",
     "output_type": "stream",
     "text": [
      "CPU times: user 3min 7s, sys: 737 ms, total: 3min 7s\n",
      "Wall time: 3min 8s\n"
     ]
    }
   ],
   "source": [
    "%%time\n",
    "svm_prediction = svm_model.predict(X_test)"
   ]
  },
  {
   "cell_type": "code",
   "execution_count": 15,
   "id": "1b529958",
   "metadata": {},
   "outputs": [
    {
     "name": "stdout",
     "output_type": "stream",
     "text": [
      "CPU times: user 533 ms, sys: 2.91 ms, total: 536 ms\n",
      "Wall time: 535 ms\n"
     ]
    }
   ],
   "source": [
    "%%time\n",
    "rfc_prediction = rfc_model.predict(X_test)"
   ]
  },
  {
   "cell_type": "markdown",
   "id": "c9080cc2",
   "metadata": {},
   "source": [
    "#### Evaluating the results"
   ]
  },
  {
   "cell_type": "code",
   "execution_count": 16,
   "id": "96b1ee27",
   "metadata": {},
   "outputs": [
    {
     "name": "stdout",
     "output_type": "stream",
     "text": [
      "Accuracy (SVM): 0.8931187454864336\n",
      "Accuracy (Random Forest): 0.9997936655318271\n"
     ]
    }
   ],
   "source": [
    "svm_accuracy = accuracy_score(y_test, svm_prediction)\n",
    "rfc_accuracy = accuracy_score(y_test, rfc_prediction)\n",
    "\n",
    "print(\"Accuracy (SVM):\", svm_accuracy)\n",
    "print(\"Accuracy (Random Forest):\", rfc_accuracy)"
   ]
  },
  {
   "cell_type": "code",
   "execution_count": 17,
   "id": "3b708e1d",
   "metadata": {},
   "outputs": [
    {
     "name": "stdout",
     "output_type": "stream",
     "text": [
      "SVM Results:\n",
      "              precision    recall  f1-score   support\n",
      "\n",
      "        idle       0.96      0.99      0.97      6187\n",
      "     running       0.93      0.90      0.92     20609\n",
      "      stairs       1.00      0.00      0.00       985\n",
      "     walking       0.80      0.90      0.85     10991\n",
      "\n",
      "    accuracy                           0.89     38772\n",
      "   macro avg       0.92      0.70      0.68     38772\n",
      "weighted avg       0.90      0.89      0.88     38772\n",
      "\n",
      "Random Forest Results:\n",
      "              precision    recall  f1-score   support\n",
      "\n",
      "        idle       1.00      1.00      1.00      6187\n",
      "     running       1.00      1.00      1.00     20609\n",
      "      stairs       1.00      1.00      1.00       985\n",
      "     walking       1.00      1.00      1.00     10991\n",
      "\n",
      "    accuracy                           1.00     38772\n",
      "   macro avg       1.00      1.00      1.00     38772\n",
      "weighted avg       1.00      1.00      1.00     38772\n",
      "\n"
     ]
    }
   ],
   "source": [
    "svm_report = classification_report(y_test, svm_prediction)\n",
    "print(\"SVM Results:\")\n",
    "print(svm_report)\n",
    "\n",
    "rfc_report = classification_report(y_test, rfc_prediction)\n",
    "print(\"Random Forest Results:\")\n",
    "print(rfc_report)"
   ]
  },
  {
   "cell_type": "markdown",
   "id": "c23234ce",
   "metadata": {},
   "source": [
    "#### Conclusion"
   ]
  },
  {
   "cell_type": "markdown",
   "id": "344cda46",
   "metadata": {},
   "source": [
    "Based on the calculation timings: \n",
    "- SVC model training took 8 minutes 8 seconds\n",
    "- Random Forest training time was 17.9 seconds. "
   ]
  },
  {
   "cell_type": "markdown",
   "id": "d9a217ba",
   "metadata": {},
   "source": [
    "Predicting the test data took:\n",
    "- for the SVC model - 3 minutes 8 seconds\n",
    "- for the Random Forest - less than a second. "
   ]
  },
  {
   "cell_type": "markdown",
   "id": "d4c6c85e",
   "metadata": {},
   "source": [
    "Also, it should be noted that according to the metrics, Random Forest gives more accurate forecasting results."
   ]
  }
 ],
 "metadata": {
  "kernelspec": {
   "display_name": "Python 3 (ipykernel)",
   "language": "python",
   "name": "python3"
  },
  "language_info": {
   "codemirror_mode": {
    "name": "ipython",
    "version": 3
   },
   "file_extension": ".py",
   "mimetype": "text/x-python",
   "name": "python",
   "nbconvert_exporter": "python",
   "pygments_lexer": "ipython3",
   "version": "3.9.7"
  }
 },
 "nbformat": 4,
 "nbformat_minor": 5
}
