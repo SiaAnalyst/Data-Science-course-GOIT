{
 "cells": [
  {
   "cell_type": "markdown",
   "id": "39871f25",
   "metadata": {},
   "source": [
    "# Data Science\n",
    "## Home task 1"
   ]
  },
  {
   "cell_type": "code",
   "execution_count": 1,
   "id": "ad79d30e",
   "metadata": {},
   "outputs": [],
   "source": [
    "#import module numpy\n",
    "import numpy as np"
   ]
  },
  {
   "cell_type": "markdown",
   "id": "531eda7c",
   "metadata": {},
   "source": [
    "#### 1. Create a one-dimensional array (vector) with the first 10 positive integers and print its value."
   ]
  },
  {
   "cell_type": "code",
   "execution_count": 2,
   "id": "712555f8",
   "metadata": {},
   "outputs": [
    {
     "data": {
      "text/plain": [
       "array([0, 1, 2, 3, 4, 5, 6, 7, 8, 9])"
      ]
     },
     "execution_count": 2,
     "metadata": {},
     "output_type": "execute_result"
    }
   ],
   "source": [
    "np.arange(10)"
   ]
  },
  {
   "cell_type": "code",
   "execution_count": 3,
   "id": "705ba234",
   "metadata": {},
   "outputs": [
    {
     "name": "stdout",
     "output_type": "stream",
     "text": [
      "[1 2 3 4 5 6 7 8 9]\n"
     ]
    }
   ],
   "source": [
    "a = np.arange(1, 10)\n",
    "print(a)"
   ]
  },
  {
   "cell_type": "markdown",
   "id": "44b02107",
   "metadata": {},
   "source": [
    "#### 2. Create a two-dimensional array (matrix) of size 3x3, fill it with zeros and print its value. "
   ]
  },
  {
   "cell_type": "code",
   "execution_count": 4,
   "id": "51304cd2",
   "metadata": {},
   "outputs": [
    {
     "data": {
      "text/plain": [
       "array([[0, 0, 0],\n",
       "       [0, 0, 0],\n",
       "       [0, 0, 0]])"
      ]
     },
     "execution_count": 4,
     "metadata": {},
     "output_type": "execute_result"
    }
   ],
   "source": [
    "np.zeros((3, 3), dtype=int)"
   ]
  },
  {
   "cell_type": "code",
   "execution_count": 5,
   "id": "7e8e91ab",
   "metadata": {},
   "outputs": [
    {
     "name": "stdout",
     "output_type": "stream",
     "text": [
      "[[0 0 0]\n",
      " [0 0 0]\n",
      " [0 0 0]]\n"
     ]
    }
   ],
   "source": [
    "a = np.zeros((3, 3), dtype=int)\n",
    "print(a)"
   ]
  },
  {
   "cell_type": "markdown",
   "id": "5e085fb2",
   "metadata": {},
   "source": [
    "#### 3. Create an array of size 5x5, fill it with random integers in the range from 1 to 10 and print its value."
   ]
  },
  {
   "cell_type": "code",
   "execution_count": 6,
   "id": "85c72c58",
   "metadata": {},
   "outputs": [
    {
     "data": {
      "text/plain": [
       "array([[ 3,  1,  7,  8,  5],\n",
       "       [ 6,  5,  7,  4,  9],\n",
       "       [10,  9,  2,  3, 10],\n",
       "       [ 9,  2,  4,  3,  8],\n",
       "       [ 5, 10,  6,  5,  3]])"
      ]
     },
     "execution_count": 6,
     "metadata": {},
     "output_type": "execute_result"
    }
   ],
   "source": [
    "np.random.randint(1, 11, size=(5, 5))"
   ]
  },
  {
   "cell_type": "code",
   "execution_count": 7,
   "id": "069c907d",
   "metadata": {},
   "outputs": [
    {
     "name": "stdout",
     "output_type": "stream",
     "text": [
      "[[ 3  2  3  7  4]\n",
      " [ 5  7  8  5  2]\n",
      " [ 2  7  7  2  3]\n",
      " [ 7 10  3  3  4]\n",
      " [10  9  6  3  5]]\n"
     ]
    }
   ],
   "source": [
    "a = np.random.randint(1, 11, size=(5, 5))\n",
    "print(a)"
   ]
  },
  {
   "cell_type": "markdown",
   "id": "3101304e",
   "metadata": {},
   "source": [
    "#### 4. Create an array of size 4x4, fill it with random real numbers in the range from 0 to 1 and print its value."
   ]
  },
  {
   "cell_type": "code",
   "execution_count": 8,
   "id": "93f884b0",
   "metadata": {},
   "outputs": [
    {
     "name": "stdout",
     "output_type": "stream",
     "text": [
      "[[0.78407063 0.33695411 0.11806425 0.0218881 ]\n",
      " [0.52216285 0.58537975 0.09895185 0.59482942]\n",
      " [0.68231431 0.22051174 0.09664322 0.81956478]\n",
      " [0.11257973 0.2624984  0.47574333 0.34196992]]\n"
     ]
    }
   ],
   "source": [
    "a = np.random.uniform(low=0.0, high=1.0, size=(4, 4))\n",
    "print(a)"
   ]
  },
  {
   "cell_type": "markdown",
   "id": "15d1bb77",
   "metadata": {},
   "source": [
    "#### 5. Create two one-dimensional arrays of size 5, fill them with random integers in the range from 1 to 10, and perform elementwise addition, subtraction, and multiplication operations on them."
   ]
  },
  {
   "cell_type": "code",
   "execution_count": 9,
   "id": "5eed4087",
   "metadata": {},
   "outputs": [],
   "source": [
    "a = np.random.randint(1, 11, size=(5))\n",
    "b = np.random.randint(1, 11, size=(5))"
   ]
  },
  {
   "cell_type": "code",
   "execution_count": 10,
   "id": "1b9266b0",
   "metadata": {},
   "outputs": [
    {
     "name": "stdout",
     "output_type": "stream",
     "text": [
      "[14 10 12  5 18]\n"
     ]
    }
   ],
   "source": [
    "print(a+b)"
   ]
  },
  {
   "cell_type": "code",
   "execution_count": 11,
   "id": "f6f64e17",
   "metadata": {},
   "outputs": [
    {
     "name": "stdout",
     "output_type": "stream",
     "text": [
      "[ 6 -4 -4  3  2]\n"
     ]
    }
   ],
   "source": [
    "print(a-b)"
   ]
  },
  {
   "cell_type": "code",
   "execution_count": 12,
   "id": "5374a028",
   "metadata": {},
   "outputs": [
    {
     "name": "stdout",
     "output_type": "stream",
     "text": [
      "[2.5        0.42857143 0.5        4.         1.25      ]\n"
     ]
    }
   ],
   "source": [
    "print(a/b)"
   ]
  },
  {
   "cell_type": "markdown",
   "id": "a671ed82",
   "metadata": {},
   "source": [
    "#### 6. Create two vectors of size 7, fill them with random numbers and find their scalar product."
   ]
  },
  {
   "cell_type": "code",
   "execution_count": 13,
   "id": "4dcd839f",
   "metadata": {},
   "outputs": [
    {
     "name": "stdout",
     "output_type": "stream",
     "text": [
      "1.307303061248996\n"
     ]
    }
   ],
   "source": [
    "a = np.random.random(7)\n",
    "b = np.random.random(7)\n",
    "print(np.dot(a, b))"
   ]
  },
  {
   "cell_type": "markdown",
   "id": "b105bf47",
   "metadata": {},
   "source": [
    "#### 7. Create two matrices of size 2x2 and 2x3, fill them with random integers in the range from 1 to 10, and multiply them."
   ]
  },
  {
   "cell_type": "code",
   "execution_count": 14,
   "id": "79b21313",
   "metadata": {},
   "outputs": [
    {
     "name": "stdout",
     "output_type": "stream",
     "text": [
      "[[79 54 84]\n",
      " [17 12 17]]\n"
     ]
    }
   ],
   "source": [
    "a = np.random.randint(1, 11, size=(2, 2))\n",
    "b = np.random.randint(1, 11, size=(2, 3))\n",
    "print(np.dot(a, b))"
   ]
  },
  {
   "cell_type": "markdown",
   "id": "33b14bc5",
   "metadata": {},
   "source": [
    "#### 8. Create a 3x3 matrix, fill it with random integers in the range from 1 to 10, and find its inverse."
   ]
  },
  {
   "cell_type": "code",
   "execution_count": 15,
   "id": "caa96fdf",
   "metadata": {},
   "outputs": [],
   "source": [
    "a = np.random.randint(1, 11, size=(3, 3))\n",
    "a_inv = np.linalg.inv(a)"
   ]
  },
  {
   "cell_type": "code",
   "execution_count": 16,
   "id": "f82aca23",
   "metadata": {},
   "outputs": [
    {
     "name": "stdout",
     "output_type": "stream",
     "text": [
      "[[ 7  1  1]\n",
      " [ 5  1  3]\n",
      " [ 8  2 10]]\n"
     ]
    }
   ],
   "source": [
    "print(a)"
   ]
  },
  {
   "cell_type": "code",
   "execution_count": 17,
   "id": "1b269cbb",
   "metadata": {},
   "outputs": [
    {
     "name": "stdout",
     "output_type": "stream",
     "text": [
      "[[ 1.  -2.   0.5]\n",
      " [-6.5 15.5 -4. ]\n",
      " [ 0.5 -1.5  0.5]]\n"
     ]
    }
   ],
   "source": [
    "print(a_inv)"
   ]
  },
  {
   "cell_type": "markdown",
   "id": "19faf33c",
   "metadata": {},
   "source": [
    "#### 9. Create a 4x4 matrix, fill it with random real numbers in the range from 0 to 1 and transpose it."
   ]
  },
  {
   "cell_type": "code",
   "execution_count": 18,
   "id": "1ffa587d",
   "metadata": {},
   "outputs": [],
   "source": [
    "a = np.random.uniform(0, 1, size=(4, 4))"
   ]
  },
  {
   "cell_type": "code",
   "execution_count": 19,
   "id": "3e2aba5c",
   "metadata": {},
   "outputs": [
    {
     "name": "stdout",
     "output_type": "stream",
     "text": [
      "[[0.15664996 0.80879857 0.14858301 0.09096468]\n",
      " [0.94851932 0.05305703 0.98299287 0.11594427]\n",
      " [0.69869933 0.30832277 0.83434208 0.1714608 ]\n",
      " [0.61468361 0.83711757 0.53816981 0.40226877]]\n"
     ]
    }
   ],
   "source": [
    "print(a)"
   ]
  },
  {
   "cell_type": "code",
   "execution_count": 20,
   "id": "35821268",
   "metadata": {},
   "outputs": [
    {
     "name": "stdout",
     "output_type": "stream",
     "text": [
      "[[0.15664996 0.94851932 0.69869933 0.61468361]\n",
      " [0.80879857 0.05305703 0.30832277 0.83711757]\n",
      " [0.14858301 0.98299287 0.83434208 0.53816981]\n",
      " [0.09096468 0.11594427 0.1714608  0.40226877]]\n"
     ]
    }
   ],
   "source": [
    "print(a.T)"
   ]
  },
  {
   "cell_type": "markdown",
   "id": "fdc21076",
   "metadata": {},
   "source": [
    "#### 10. Create a 3x4 matrix and a 4-dimensional vector, fill them with random integers in the range 1 to 10, and multiply the matrix by the vector."
   ]
  },
  {
   "cell_type": "code",
   "execution_count": 21,
   "id": "02895117",
   "metadata": {},
   "outputs": [],
   "source": [
    "a = np.random.randint(1, 11, size=(3, 4))\n",
    "b = np.random.randint(1, 11, size=(4))"
   ]
  },
  {
   "cell_type": "code",
   "execution_count": 22,
   "id": "14850c99",
   "metadata": {},
   "outputs": [
    {
     "name": "stdout",
     "output_type": "stream",
     "text": [
      "[[ 6  4  7  7]\n",
      " [ 4  2  5  9]\n",
      " [ 5  5  1 10]]\n"
     ]
    }
   ],
   "source": [
    "print(a)"
   ]
  },
  {
   "cell_type": "code",
   "execution_count": 23,
   "id": "0a9cc395",
   "metadata": {},
   "outputs": [
    {
     "name": "stdout",
     "output_type": "stream",
     "text": [
      "[10  3  7  7]\n"
     ]
    }
   ],
   "source": [
    "print(b)"
   ]
  },
  {
   "cell_type": "code",
   "execution_count": 24,
   "id": "16087f5c",
   "metadata": {},
   "outputs": [
    {
     "name": "stdout",
     "output_type": "stream",
     "text": [
      "[[60 12 49 49]\n",
      " [40  6 35 63]\n",
      " [50 15  7 70]]\n"
     ]
    }
   ],
   "source": [
    "print(a * b)"
   ]
  },
  {
   "cell_type": "markdown",
   "id": "10d1103c",
   "metadata": {},
   "source": [
    "#### 11. Create a 2x3 matrix and a vector of size 3, fill them with random real numbers in the range 0 to 1, and multiply the matrix by the vector."
   ]
  },
  {
   "cell_type": "code",
   "execution_count": 25,
   "id": "ebf382c2",
   "metadata": {},
   "outputs": [],
   "source": [
    "a = np.random.uniform(low=0.0, high=1.0, size=(2, 3))\n",
    "b = np.random.uniform(low=0.0, high=1.0, size=(3))"
   ]
  },
  {
   "cell_type": "code",
   "execution_count": 26,
   "id": "d430bf45",
   "metadata": {},
   "outputs": [
    {
     "name": "stdout",
     "output_type": "stream",
     "text": [
      "[[0.26926033 0.81898114 0.66137652]\n",
      " [0.86810648 0.18257007 0.22185893]]\n"
     ]
    }
   ],
   "source": [
    "print(a)"
   ]
  },
  {
   "cell_type": "code",
   "execution_count": 27,
   "id": "67f1a4c0",
   "metadata": {},
   "outputs": [
    {
     "name": "stdout",
     "output_type": "stream",
     "text": [
      "[0.15240917 0.29556845 0.04633211]\n"
     ]
    }
   ],
   "source": [
    "print(b)"
   ]
  },
  {
   "cell_type": "code",
   "execution_count": 28,
   "id": "3ffbf332",
   "metadata": {},
   "outputs": [
    {
     "name": "stdout",
     "output_type": "stream",
     "text": [
      "[[0.04103774 0.24206498 0.03064297]\n",
      " [0.13230739 0.05396195 0.01027919]]\n"
     ]
    }
   ],
   "source": [
    "print(a * b)"
   ]
  },
  {
   "cell_type": "markdown",
   "id": "4cdef8a6",
   "metadata": {},
   "source": [
    "#### 12. Create two matrices of size 2x2, fill them with random integers in the range from 1 to 10, and perform their elementwise multiplication."
   ]
  },
  {
   "cell_type": "code",
   "execution_count": 29,
   "id": "472d4e95",
   "metadata": {},
   "outputs": [],
   "source": [
    "a = np.random.randint(1, 11, size=(2, 2))\n",
    "b = np.random.randint(1, 11, size=(2, 2))"
   ]
  },
  {
   "cell_type": "code",
   "execution_count": 30,
   "id": "0866d831",
   "metadata": {},
   "outputs": [
    {
     "name": "stdout",
     "output_type": "stream",
     "text": [
      "[[6 4]\n",
      " [9 4]]\n"
     ]
    }
   ],
   "source": [
    "print(a)"
   ]
  },
  {
   "cell_type": "code",
   "execution_count": 31,
   "id": "eef2897e",
   "metadata": {},
   "outputs": [
    {
     "name": "stdout",
     "output_type": "stream",
     "text": [
      "[[4 9]\n",
      " [5 5]]\n"
     ]
    }
   ],
   "source": [
    "print(b)"
   ]
  },
  {
   "cell_type": "code",
   "execution_count": 32,
   "id": "863ce7e8",
   "metadata": {},
   "outputs": [
    {
     "name": "stdout",
     "output_type": "stream",
     "text": [
      "[[24 36]\n",
      " [45 20]]\n"
     ]
    }
   ],
   "source": [
    "print(a * b)"
   ]
  },
  {
   "cell_type": "markdown",
   "id": "fcc7cd95",
   "metadata": {},
   "source": [
    "#### 13. Create two matrices of size 2x2, fill them with random integers in the range from 1 to 10 and find their product."
   ]
  },
  {
   "cell_type": "code",
   "execution_count": 33,
   "id": "17b65a1d",
   "metadata": {},
   "outputs": [],
   "source": [
    "a = np.random.randint(1, 11, size=(2, 2))\n",
    "b = np.random.randint(1, 11, size=(2, 2))"
   ]
  },
  {
   "cell_type": "code",
   "execution_count": 34,
   "id": "1042a476",
   "metadata": {},
   "outputs": [
    {
     "name": "stdout",
     "output_type": "stream",
     "text": [
      "[[10 10]\n",
      " [ 3 10]]\n"
     ]
    }
   ],
   "source": [
    "print(a)"
   ]
  },
  {
   "cell_type": "code",
   "execution_count": 35,
   "id": "c96314bf",
   "metadata": {},
   "outputs": [
    {
     "name": "stdout",
     "output_type": "stream",
     "text": [
      "[[8 1]\n",
      " [7 4]]\n"
     ]
    }
   ],
   "source": [
    "print(b)"
   ]
  },
  {
   "cell_type": "code",
   "execution_count": 36,
   "id": "dbd0b867",
   "metadata": {},
   "outputs": [
    {
     "name": "stdout",
     "output_type": "stream",
     "text": [
      "[[150  50]\n",
      " [ 94  43]]\n"
     ]
    }
   ],
   "source": [
    "print(np.dot(a, b))"
   ]
  },
  {
   "cell_type": "markdown",
   "id": "c7d97fd2",
   "metadata": {},
   "source": [
    "#### 14. Create a 5x5 matrix, fill it with random integers in the range from 1 to 100 and find the sum of the matrix elements."
   ]
  },
  {
   "cell_type": "code",
   "execution_count": 37,
   "id": "872eaae3",
   "metadata": {},
   "outputs": [],
   "source": [
    "a = np.random.randint(1, 101, size=(5, 5))"
   ]
  },
  {
   "cell_type": "code",
   "execution_count": 38,
   "id": "fbe17222",
   "metadata": {},
   "outputs": [
    {
     "name": "stdout",
     "output_type": "stream",
     "text": [
      "[[61 66 64 58 90]\n",
      " [16 95 59 35 87]\n",
      " [67 93 94 49 17]\n",
      " [67 64 96 58 76]\n",
      " [67 55 76 52 34]]\n"
     ]
    }
   ],
   "source": [
    "print(a)"
   ]
  },
  {
   "cell_type": "code",
   "execution_count": 39,
   "id": "092c7cbc",
   "metadata": {},
   "outputs": [
    {
     "name": "stdout",
     "output_type": "stream",
     "text": [
      "1596\n"
     ]
    }
   ],
   "source": [
    "print(a.sum())"
   ]
  },
  {
   "cell_type": "markdown",
   "id": "81773fba",
   "metadata": {},
   "source": [
    "#### 15. Create two matrices of size 4x4, fill them with random integers in the range from 1 to 10 and find their difference."
   ]
  },
  {
   "cell_type": "code",
   "execution_count": 40,
   "id": "79a19006",
   "metadata": {},
   "outputs": [],
   "source": [
    "a = np.random.randint(1, 11, size=(4, 4))\n",
    "b = np.random.randint(1, 11, size=(4, 4))"
   ]
  },
  {
   "cell_type": "code",
   "execution_count": 41,
   "id": "50fd10c9",
   "metadata": {},
   "outputs": [
    {
     "name": "stdout",
     "output_type": "stream",
     "text": [
      "[[ 6  1  4  3]\n",
      " [ 6  9  8 10]\n",
      " [ 9 10  1  2]\n",
      " [ 9  2  4 10]]\n"
     ]
    }
   ],
   "source": [
    "print(a)"
   ]
  },
  {
   "cell_type": "code",
   "execution_count": 42,
   "id": "8931c954",
   "metadata": {},
   "outputs": [
    {
     "name": "stdout",
     "output_type": "stream",
     "text": [
      "[[ 6  3  5  3]\n",
      " [ 2  1 10 10]\n",
      " [ 8 10 10  6]\n",
      " [ 8  2  8  3]]\n"
     ]
    }
   ],
   "source": [
    "print(b)"
   ]
  },
  {
   "cell_type": "code",
   "execution_count": 43,
   "id": "1f5f65d3",
   "metadata": {},
   "outputs": [
    {
     "name": "stdout",
     "output_type": "stream",
     "text": [
      "[[ 0 -2 -1  0]\n",
      " [ 4  8 -2  0]\n",
      " [ 1  0 -9 -4]\n",
      " [ 1  0 -4  7]]\n"
     ]
    }
   ],
   "source": [
    "print(a - b)"
   ]
  },
  {
   "cell_type": "markdown",
   "id": "5e4cf99b",
   "metadata": {},
   "source": [
    "#### 16. Create a 3x3 matrix, fill it with random real numbers in the range from 0 to 1, and find the column vector containing the sum of the elements of each row of the matrix."
   ]
  },
  {
   "cell_type": "code",
   "execution_count": 44,
   "id": "0340e0ea",
   "metadata": {},
   "outputs": [],
   "source": [
    "a = np.random.uniform(low=0.0, high=1.0, size=(3, 3))\n",
    "b = np.array([sum(a[0, :3]), sum(a[1, :3]), sum(a[2, :3])])"
   ]
  },
  {
   "cell_type": "code",
   "execution_count": 45,
   "id": "d8905c59",
   "metadata": {},
   "outputs": [
    {
     "name": "stdout",
     "output_type": "stream",
     "text": [
      "[[0.68493707 0.17540509 0.97043218]\n",
      " [0.65925203 0.44396715 0.85601585]\n",
      " [0.90155126 0.01711347 0.75932258]]\n"
     ]
    }
   ],
   "source": [
    "print(a)"
   ]
  },
  {
   "cell_type": "code",
   "execution_count": 46,
   "id": "5c6ecf22",
   "metadata": {},
   "outputs": [
    {
     "name": "stdout",
     "output_type": "stream",
     "text": [
      "[[1.83077434]\n",
      " [1.95923504]\n",
      " [1.67798731]]\n"
     ]
    }
   ],
   "source": [
    "print(b.reshape((3, 1)))"
   ]
  },
  {
   "cell_type": "markdown",
   "id": "4ec22cf5",
   "metadata": {},
   "source": [
    "#### 17. Create a 3x4 matrix with any integers and create a matrix with the squares of these numbers."
   ]
  },
  {
   "cell_type": "code",
   "execution_count": 47,
   "id": "e5cc31be",
   "metadata": {},
   "outputs": [],
   "source": [
    "a = np.random.randint(-11, 11, size=(3, 4))"
   ]
  },
  {
   "cell_type": "code",
   "execution_count": 48,
   "id": "d059df6c",
   "metadata": {},
   "outputs": [
    {
     "name": "stdout",
     "output_type": "stream",
     "text": [
      "[[  7   0   8 -10]\n",
      " [  4 -11   4 -11]\n",
      " [  4 -10  -3   4]]\n"
     ]
    }
   ],
   "source": [
    "print(a)"
   ]
  },
  {
   "cell_type": "code",
   "execution_count": 49,
   "id": "477a0f8c",
   "metadata": {},
   "outputs": [
    {
     "name": "stdout",
     "output_type": "stream",
     "text": [
      "[[ 49   0  64 100]\n",
      " [ 16 121  16 121]\n",
      " [ 16 100   9  16]]\n"
     ]
    }
   ],
   "source": [
    "print(np.square(a))"
   ]
  },
  {
   "cell_type": "markdown",
   "id": "3980ca03",
   "metadata": {},
   "source": [
    "#### 18. Create a vector of size 4, fill it with random integers in the range from 1 to 50, and find the vector with the square roots of these numbers."
   ]
  },
  {
   "cell_type": "code",
   "execution_count": 50,
   "id": "dbae1e15",
   "metadata": {},
   "outputs": [],
   "source": [
    "a = np.random.randint(1, 51, size=(4))"
   ]
  },
  {
   "cell_type": "code",
   "execution_count": 51,
   "id": "60b94a0d",
   "metadata": {},
   "outputs": [
    {
     "name": "stdout",
     "output_type": "stream",
     "text": [
      "[ 9 44 31 48]\n"
     ]
    }
   ],
   "source": [
    "print(a)"
   ]
  },
  {
   "cell_type": "code",
   "execution_count": 52,
   "id": "c6e87496",
   "metadata": {},
   "outputs": [
    {
     "name": "stdout",
     "output_type": "stream",
     "text": [
      "[3.         6.63324958 5.56776436 6.92820323]\n"
     ]
    }
   ],
   "source": [
    "print(np.sqrt(a))"
   ]
  }
 ],
 "metadata": {
  "kernelspec": {
   "display_name": "Python 3 (ipykernel)",
   "language": "python",
   "name": "python3"
  },
  "language_info": {
   "codemirror_mode": {
    "name": "ipython",
    "version": 3
   },
   "file_extension": ".py",
   "mimetype": "text/x-python",
   "name": "python",
   "nbconvert_exporter": "python",
   "pygments_lexer": "ipython3",
   "version": "3.9.13"
  }
 },
 "nbformat": 4,
 "nbformat_minor": 5
}
