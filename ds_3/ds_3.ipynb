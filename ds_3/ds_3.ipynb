{
 "cells": [
  {
   "cell_type": "markdown",
   "id": "2bb74ae1",
   "metadata": {},
   "source": [
    "# Linear regression\n",
    "\n",
    "This homework assignment will be entirely related to linear regression and its implementation."
   ]
  },
  {
   "cell_type": "code",
   "execution_count": 1,
   "id": "2f4b3822",
   "metadata": {},
   "outputs": [],
   "source": [
    "#import libraries\n",
    "import random\n",
    "import numpy as np\n",
    "import pandas as pd\n",
    "import matplotlib.pyplot as plt\n",
    "import seaborn as sns\n",
    "from sklearn.preprocessing import MinMaxScaler\n",
    "%matplotlib inline"
   ]
  },
  {
   "cell_type": "markdown",
   "id": "2ee607f4",
   "metadata": {},
   "source": [
    "#### Write a linear regression hypothesis function in vector form"
   ]
  },
  {
   "cell_type": "markdown",
   "id": "1d8ca93e",
   "metadata": {},
   "source": [
    "Лінійна функція представляється у вигляді наступного рівняння: $$y=kx+b$$\n",
    "де x - ознака (feature), y - цільове значення, k - коєфіцієнт нахилу прямої, а b - точка на осі y, через яку проходить графік функції при x = 0.\n",
    "k та b взагалі - це ваги для ознак.\n",
    "У DataScience ознак для кожного цільового значення може бути декілька, тому для кожного feature приймаються ваги:\n",
    "$$h(\\vec{x}) = w_0 + w_1 * x_1 + w_2 * x_2 + ...+ w_n *x_n$$\n",
    "\n",
    "Ціль навчання моделі - знайти такі коефіцієнти (ваги)\n",
    "$$w_0, w_1, w_n$$, щоб значення  $$h(x_{(i)})$$ були якомога ближчі до значення $$y_{(i)}$$\n",
    "\n",
    "Лінійна регрессія у векторному вигляді описується наступною формулою\n",
    " $$h(\\vec{x}) = \\vec{w} * \\vec{x}$$"
   ]
  },
  {
   "cell_type": "code",
   "execution_count": 2,
   "id": "9c9ba38c",
   "metadata": {},
   "outputs": [],
   "source": [
    "def h(X, w):\n",
    "    return np.dot(X, w)"
   ]
  },
  {
   "cell_type": "code",
   "execution_count": 3,
   "id": "56bd90bf",
   "metadata": {},
   "outputs": [
    {
     "name": "stdout",
     "output_type": "stream",
     "text": [
      "Predictions: [1.25192802 1.03707221 1.40801118 1.13664245 1.25508485 0.37202081\n",
      " 1.70489482 1.34171797 0.65030894 1.39847272 0.99109214 0.73562339\n",
      " 1.34683996 1.04197915 0.90118886 0.81376768 0.75744095 1.19666048\n",
      " 0.53179945 0.67199871 0.44820335 0.40027357 1.09859419 0.99907326\n",
      " 1.59994927 0.29447479 0.46630295 0.65589932 0.89339724 0.84056266\n",
      " 0.84931548 0.93443369 0.82342807 0.61887064 1.49414456 1.17123003\n",
      " 1.08866636 1.40783618 1.33820236 1.44017457 1.36404668 1.11391369\n",
      " 0.4707665  0.88418686 0.54358044 1.19782456 1.22378625 0.96773526\n",
      " 1.30909278 1.71917963 0.86158758 0.93639127 1.30804149 0.75364215\n",
      " 1.65019466 0.90482543 0.96820727 0.21023762 1.00791156 1.39721427\n",
      " 0.822659   1.14332868 1.18543572 0.66094583 1.14616098 0.70539545\n",
      " 0.49273897 0.98350592 0.30076344 1.12536077 1.28658704 0.50735137\n",
      " 0.78292751 1.5309726  0.92755077 1.46770232 1.50916043 0.60304044\n",
      " 0.64146271 0.83063897 1.04647061 0.80655576 0.7027084  1.03101154\n",
      " 1.57438075 0.69776554 1.17841567 0.41330752 1.30891907 0.74290224\n",
      " 1.67726616 1.3673257  1.68206244 1.30222356 0.68606463 1.05364708\n",
      " 1.06868705 0.82371264 0.66976745 1.85480761]\n"
     ]
    }
   ],
   "source": [
    "# Generate some random data\n",
    "np.random.seed(0)\n",
    "X = np.random.rand(100, 3)  # 100 samples with 3 features\n",
    "w = np.random.rand(3)  # Parameters (weights) of the model\n",
    "\n",
    "# Calculate predictions\n",
    "predictions = h(X, w)\n",
    "\n",
    "print(\"Predictions:\", predictions)\n"
   ]
  },
  {
   "cell_type": "markdown",
   "id": "d0f12c5e",
   "metadata": {},
   "source": [
    "#### Create a function to calculate the loss function in vector form"
   ]
  },
  {
   "cell_type": "markdown",
   "id": "04857544",
   "metadata": {},
   "source": [
    "Функція втрат/помилок (loss/error/cost function) - це функція, яка вимірює рівень помилок алгоритму машинного навчання, який навчається на тренувальних даних. Завдяки їй оцінюється наскільки сильно модель помиляється\n",
    "\n",
    "Функція втрат у математичному вигляді представлена наступною формулою:\n",
    "$$J(\\vec{w}) = (1/2*n)\\sum_{i=1}^n(h(x^i)- y^i)^2$$\n",
    "де:\n",
    "n – кількість спостережень,\n",
    "X - матриця вхідних змінних,\n",
    "w - вектор параметрів моделі (ваги),\n",
    "y - вектор фактичних значень"
   ]
  },
  {
   "cell_type": "code",
   "execution_count": 4,
   "id": "f7561c1a",
   "metadata": {},
   "outputs": [
    {
     "name": "stdout",
     "output_type": "stream",
     "text": [
      "Loss: 0.10788797459582472\n"
     ]
    }
   ],
   "source": [
    "def loss_function(X, y, w):\n",
    "    m = X.shape[0]\n",
    "    return np.square(h(X, w) - y).sum()/(2*m)\n",
    "\n",
    "np.random.seed(0)\n",
    "X = np.random.rand(100, 3)  # 100 samples with 3 features\n",
    "y = np.random.rand(100)  # Target variable\n",
    "w = np.random.rand(3)  # Parameters (weights) of the model\n",
    "\n",
    "# Calculate the loss\n",
    "loss = loss_function(X, y, w)\n",
    "\n",
    "print(\"Loss:\", loss)"
   ]
  },
  {
   "cell_type": "markdown",
   "id": "c33101fe",
   "metadata": {},
   "source": [
    "#### Implement one step of gradient descent"
   ]
  },
  {
   "cell_type": "markdown",
   "id": "a0d6612b",
   "metadata": {},
   "source": [
    "Градієнтний спуск (Gradient Descent) - це алгоритм оптимізації, який використовується для знаходження мінімуму функції шляхом ітеративного зменшення значення функції в напрямку найшвидшого спаду її значення.\n",
    "\n",
    "Градієнтний спуск використовується для оптимізації параметрів $$(w_0, w_1, ...)$$ моделі шляхом мінімізації функції втрат (cost function). Ідея полягає у тому, щоб визначити напрямок найшвидшого зменшення функції втрат і змінювати параметри моделі в цьому напрямку. Цей процес повторюється доти, поки значення функції втрат не стане достатньо малим або досягне заданого ліміту ітерацій.\n",
    "\n",
    "У математичному вигляді градіентний спуск записується наступною формулою:\n",
    "$$h(\\vec{w}) = \\vec{w}^{prev} - \\alpha∇J(\\vec{w})$$"
   ]
  },
  {
   "cell_type": "code",
   "execution_count": 5,
   "id": "2e3421dd",
   "metadata": {},
   "outputs": [
    {
     "name": "stdout",
     "output_type": "stream",
     "text": [
      "w: [0.4012595  0.92929142 0.09961493]\n",
      "Initial loss: 0.10788797459582472\n",
      "--------------------------------------------------\n",
      "New w: [0.38516054 0.91090948 0.08611795]\n",
      "Updated loss: 0.10041927167559753\n"
     ]
    }
   ],
   "source": [
    "def gradient_descent_step(X, y, w, learning_rate):\n",
    "    m = X.shape[0]\n",
    "    predictions = h(X, w) # calculate predictions\n",
    "    error = predictions - y # calculate error\n",
    "    gradient = (1 / m) * np.dot(X.T, error)\n",
    "    w = w - learning_rate * gradient\n",
    "    return w\n",
    "\n",
    "# Generate some random data\n",
    "np.random.seed(0)\n",
    "X = np.random.rand(100, 3)  # 100 samples with 3 features\n",
    "y = np.random.rand(100)  # Target variable\n",
    "w = np.random.rand(3)  # Parameters (weights) of the model\n",
    "learning_rate = 0.1\n",
    "\n",
    "# Calculate the initial loss\n",
    "initial_loss = loss_function(X, y, w)\n",
    "print(\"w:\", w)\n",
    "print(\"Initial loss:\", initial_loss)\n",
    "print('-'*50)\n",
    "\n",
    "# Perform one step of gradient descent\n",
    "w = gradient_descent_step(X, y, w, learning_rate)\n",
    "\n",
    "# Calculate the updated loss\n",
    "print(\"New w:\", w)\n",
    "updated_loss = loss_function(X, y, w)\n",
    "print(\"Updated loss:\", updated_loss)"
   ]
  },
  {
   "cell_type": "markdown",
   "id": "0aa8e3ff",
   "metadata": {},
   "source": [
    "#### Obtaining the optimal values of the w"
   ]
  },
  {
   "cell_type": "code",
   "execution_count": 6,
   "id": "102ea333",
   "metadata": {},
   "outputs": [
    {
     "name": "stdout",
     "output_type": "stream",
     "text": [
      "Optimal w: [0.20541181 0.54116143 0.10559992]\n",
      "Loss 0.054311011263837576\n"
     ]
    }
   ],
   "source": [
    "def gradient_descent(X, y, w, learning_rate, n_iter):\n",
    "    losses = loss_function(X, y, w)\n",
    "    losses_history = [losses]\n",
    "    for i in range(n_iter):\n",
    "        w = gradient_descent_step(X, y, w, learning_rate)\n",
    "        losses = loss_function(X, y, w)\n",
    "        losses_history.append(losses)\n",
    "    return w, losses_history\n",
    "\n",
    "w_opt, losses = gradient_descent(X, y, w, learning_rate, 100)\n",
    "\n",
    "print(\"Optimal w:\", w_opt)\n",
    "print(\"Loss\", losses[-1])"
   ]
  },
  {
   "cell_type": "markdown",
   "id": "bbd0c35e",
   "metadata": {},
   "source": [
    "#### Find the best parameters w for the [dataset]('https://drive.google.com/file/d/1-rAa4XT4_fI0dOBlMNuE6a7jB0wln_Qo/view?usp=share_link') to predict the price of a house depending on the area, number of bathrooms, and number of bedrooms"
   ]
  },
  {
   "cell_type": "code",
   "execution_count": 7,
   "id": "2d046d78",
   "metadata": {},
   "outputs": [
    {
     "data": {
      "text/html": [
       "<div>\n",
       "<style scoped>\n",
       "    .dataframe tbody tr th:only-of-type {\n",
       "        vertical-align: middle;\n",
       "    }\n",
       "\n",
       "    .dataframe tbody tr th {\n",
       "        vertical-align: top;\n",
       "    }\n",
       "\n",
       "    .dataframe thead th {\n",
       "        text-align: right;\n",
       "    }\n",
       "</style>\n",
       "<table border=\"1\" class=\"dataframe\">\n",
       "  <thead>\n",
       "    <tr style=\"text-align: right;\">\n",
       "      <th></th>\n",
       "      <th>price</th>\n",
       "      <th>area</th>\n",
       "      <th>bedrooms</th>\n",
       "      <th>bathrooms</th>\n",
       "      <th>stories</th>\n",
       "      <th>mainroad</th>\n",
       "      <th>guestroom</th>\n",
       "      <th>basement</th>\n",
       "      <th>hotwaterheating</th>\n",
       "      <th>airconditioning</th>\n",
       "      <th>parking</th>\n",
       "      <th>prefarea</th>\n",
       "      <th>furnishingstatus</th>\n",
       "    </tr>\n",
       "  </thead>\n",
       "  <tbody>\n",
       "    <tr>\n",
       "      <th>0</th>\n",
       "      <td>13300000</td>\n",
       "      <td>7420</td>\n",
       "      <td>4</td>\n",
       "      <td>2</td>\n",
       "      <td>3</td>\n",
       "      <td>yes</td>\n",
       "      <td>no</td>\n",
       "      <td>no</td>\n",
       "      <td>no</td>\n",
       "      <td>yes</td>\n",
       "      <td>2</td>\n",
       "      <td>yes</td>\n",
       "      <td>furnished</td>\n",
       "    </tr>\n",
       "    <tr>\n",
       "      <th>1</th>\n",
       "      <td>12250000</td>\n",
       "      <td>8960</td>\n",
       "      <td>4</td>\n",
       "      <td>4</td>\n",
       "      <td>4</td>\n",
       "      <td>yes</td>\n",
       "      <td>no</td>\n",
       "      <td>no</td>\n",
       "      <td>no</td>\n",
       "      <td>yes</td>\n",
       "      <td>3</td>\n",
       "      <td>no</td>\n",
       "      <td>furnished</td>\n",
       "    </tr>\n",
       "    <tr>\n",
       "      <th>2</th>\n",
       "      <td>12250000</td>\n",
       "      <td>9960</td>\n",
       "      <td>3</td>\n",
       "      <td>2</td>\n",
       "      <td>2</td>\n",
       "      <td>yes</td>\n",
       "      <td>no</td>\n",
       "      <td>yes</td>\n",
       "      <td>no</td>\n",
       "      <td>no</td>\n",
       "      <td>2</td>\n",
       "      <td>yes</td>\n",
       "      <td>semi-furnished</td>\n",
       "    </tr>\n",
       "    <tr>\n",
       "      <th>3</th>\n",
       "      <td>12215000</td>\n",
       "      <td>7500</td>\n",
       "      <td>4</td>\n",
       "      <td>2</td>\n",
       "      <td>2</td>\n",
       "      <td>yes</td>\n",
       "      <td>no</td>\n",
       "      <td>yes</td>\n",
       "      <td>no</td>\n",
       "      <td>yes</td>\n",
       "      <td>3</td>\n",
       "      <td>yes</td>\n",
       "      <td>furnished</td>\n",
       "    </tr>\n",
       "    <tr>\n",
       "      <th>4</th>\n",
       "      <td>11410000</td>\n",
       "      <td>7420</td>\n",
       "      <td>4</td>\n",
       "      <td>1</td>\n",
       "      <td>2</td>\n",
       "      <td>yes</td>\n",
       "      <td>yes</td>\n",
       "      <td>yes</td>\n",
       "      <td>no</td>\n",
       "      <td>yes</td>\n",
       "      <td>2</td>\n",
       "      <td>no</td>\n",
       "      <td>furnished</td>\n",
       "    </tr>\n",
       "  </tbody>\n",
       "</table>\n",
       "</div>"
      ],
      "text/plain": [
       "      price  area  bedrooms  bathrooms  stories mainroad guestroom basement  \\\n",
       "0  13300000  7420         4          2        3      yes        no       no   \n",
       "1  12250000  8960         4          4        4      yes        no       no   \n",
       "2  12250000  9960         3          2        2      yes        no      yes   \n",
       "3  12215000  7500         4          2        2      yes        no      yes   \n",
       "4  11410000  7420         4          1        2      yes       yes      yes   \n",
       "\n",
       "  hotwaterheating airconditioning  parking prefarea furnishingstatus  \n",
       "0              no             yes        2      yes        furnished  \n",
       "1              no             yes        3       no        furnished  \n",
       "2              no              no        2      yes   semi-furnished  \n",
       "3              no             yes        3      yes        furnished  \n",
       "4              no             yes        2       no        furnished  "
      ]
     },
     "execution_count": 7,
     "metadata": {},
     "output_type": "execute_result"
    }
   ],
   "source": [
    "df = pd.read_csv(\"Housing.csv\")\n",
    "df.head()"
   ]
  },
  {
   "cell_type": "code",
   "execution_count": 8,
   "id": "6312c3f9",
   "metadata": {},
   "outputs": [
    {
     "data": {
      "text/html": [
       "<div>\n",
       "<style scoped>\n",
       "    .dataframe tbody tr th:only-of-type {\n",
       "        vertical-align: middle;\n",
       "    }\n",
       "\n",
       "    .dataframe tbody tr th {\n",
       "        vertical-align: top;\n",
       "    }\n",
       "\n",
       "    .dataframe thead th {\n",
       "        text-align: right;\n",
       "    }\n",
       "</style>\n",
       "<table border=\"1\" class=\"dataframe\">\n",
       "  <thead>\n",
       "    <tr style=\"text-align: right;\">\n",
       "      <th></th>\n",
       "      <th>area</th>\n",
       "      <th>bedrooms</th>\n",
       "      <th>bathrooms</th>\n",
       "      <th>price</th>\n",
       "    </tr>\n",
       "  </thead>\n",
       "  <tbody>\n",
       "    <tr>\n",
       "      <th>0</th>\n",
       "      <td>0.396564</td>\n",
       "      <td>0.6</td>\n",
       "      <td>0.333333</td>\n",
       "      <td>1.000000</td>\n",
       "    </tr>\n",
       "    <tr>\n",
       "      <th>1</th>\n",
       "      <td>0.502405</td>\n",
       "      <td>0.6</td>\n",
       "      <td>1.000000</td>\n",
       "      <td>0.909091</td>\n",
       "    </tr>\n",
       "    <tr>\n",
       "      <th>2</th>\n",
       "      <td>0.571134</td>\n",
       "      <td>0.4</td>\n",
       "      <td>0.333333</td>\n",
       "      <td>0.909091</td>\n",
       "    </tr>\n",
       "    <tr>\n",
       "      <th>3</th>\n",
       "      <td>0.402062</td>\n",
       "      <td>0.6</td>\n",
       "      <td>0.333333</td>\n",
       "      <td>0.906061</td>\n",
       "    </tr>\n",
       "    <tr>\n",
       "      <th>4</th>\n",
       "      <td>0.396564</td>\n",
       "      <td>0.6</td>\n",
       "      <td>0.000000</td>\n",
       "      <td>0.836364</td>\n",
       "    </tr>\n",
       "  </tbody>\n",
       "</table>\n",
       "</div>"
      ],
      "text/plain": [
       "       area  bedrooms  bathrooms     price\n",
       "0  0.396564       0.6   0.333333  1.000000\n",
       "1  0.502405       0.6   1.000000  0.909091\n",
       "2  0.571134       0.4   0.333333  0.909091\n",
       "3  0.402062       0.6   0.333333  0.906061\n",
       "4  0.396564       0.6   0.000000  0.836364"
      ]
     },
     "execution_count": 8,
     "metadata": {},
     "output_type": "execute_result"
    }
   ],
   "source": [
    "scaler = MinMaxScaler()\n",
    "\n",
    "columns = ['area', 'bedrooms', 'bathrooms', 'price']\n",
    "data = scaler.fit_transform(df[columns])\n",
    "norm_df = pd.DataFrame(data, columns=columns)\n",
    "\n",
    "norm_df.head()"
   ]
  },
  {
   "cell_type": "code",
   "execution_count": 9,
   "id": "281c7cfb",
   "metadata": {},
   "outputs": [
    {
     "data": {
      "text/plain": [
       "((545, 3), (545,))"
      ]
     },
     "execution_count": 9,
     "metadata": {},
     "output_type": "execute_result"
    }
   ],
   "source": [
    "X = np.array(norm_df[['area', 'bedrooms', 'bathrooms']])\n",
    "y = np.array(norm_df['price'])\n",
    "X.shape, y.shape"
   ]
  },
  {
   "cell_type": "code",
   "execution_count": 10,
   "id": "874783ca",
   "metadata": {},
   "outputs": [],
   "source": [
    "def cost(y: np.array, h: np.array, w: np.array) -> float:\n",
    "     return np.mean((h - y) ** 2) / 2\n",
    "\n",
    "class LinearRegression:\n",
    "    def __init__(self, lr: float = 0.001, thr: float = 0.00001, n_epochs: int = 100, w = [random.uniform(-5, 5), random.uniform(-5, 5), random.uniform(-5, 5)]):\n",
    "        self.lr = lr\n",
    "        self.thr = thr\n",
    "        self.n_epochs = n_epochs\n",
    "        self.w = w\n",
    "        #print(f\"Init w: {self.w}\")\n",
    "\n",
    "    def predict(self, X: list) -> list:\n",
    "        predict = []\n",
    "        for xi in X:\n",
    "            predict.append(self.w[0] * xi[0] + self.w[1] * xi[1])\n",
    "\n",
    "        return predict\n",
    "\n",
    "    def update_w(self, X: list, y: list):\n",
    "        # wk = wk - lr / m * sum((h(xi) - yi) * xik)\n",
    "        m = len(y)\n",
    "\n",
    "        h = self.predict(X)\n",
    "\n",
    "        sm0 = 0\n",
    "        sm1 = 0\n",
    "        sm2 = 0\n",
    "        for xi, hi, yi in zip(X, h, y):\n",
    "            sm0 += (hi - yi) * xi[0]\n",
    "            sm1 += (hi - yi) * xi[1]\n",
    "            sm2 += (hi - yi) * xi[2]\n",
    "\n",
    "        self.w[0] = self.w[0] - self.lr * sm0 / m\n",
    "        self.w[1] = self.w[1] - self.lr * sm1 / m\n",
    "        self.w[2] = self.w[2] - self.lr * sm2 / m\n",
    "\n",
    "    def fit(self, X: list, y: list):\n",
    "        last_cost = 1000000\n",
    "\n",
    "        for i in range(self.n_epochs):\n",
    "            self.update_w(X, y)\n",
    "            new_cost = cost(y, self.predict(X), self.w)\n",
    "            #print(f\"{i}, {self.w}, {new_cost}\")\n",
    "            if last_cost - new_cost < self.thr:\n",
    "                break\n",
    "            last_cost = new_cost\n",
    "        return f\"The best parameters w: {self.w}, loss:{new_cost}, found by {i} iterations\""
   ]
  },
  {
   "cell_type": "code",
   "execution_count": 11,
   "id": "97e42f7f",
   "metadata": {},
   "outputs": [],
   "source": [
    "linear_regression = LinearRegression(lr=0.05, n_epochs=1000, thr=0.00001)\n",
    "result = linear_regression.fit(X, y)"
   ]
  },
  {
   "cell_type": "code",
   "execution_count": 12,
   "id": "28ebd9a0",
   "metadata": {},
   "outputs": [
    {
     "data": {
      "image/png": "[encoded data removed]",
      "text/plain": [
       "<Figure size 640x480 with 1 Axes>"
      ]
     },
     "metadata": {},
     "output_type": "display_data"
    }
   ],
   "source": [
    "plt.scatter(X[:, 0], y, color='b', label='Dataset data')\n",
    "plt.scatter(X[:, 0], linear_regression.predict(X), color='r', label='Predicted data')\n",
    "plt.xlabel('Area')\n",
    "plt.ylabel('Price')\n",
    "plt.title('Results')\n",
    "plt.legend()\n",
    "plt.show()"
   ]
  },
  {
   "cell_type": "code",
   "execution_count": 13,
   "id": "bbd2449a",
   "metadata": {},
   "outputs": [
    {
     "data": {
      "image/png": "[encoded data removed]",
      "text/plain": [
       "<Figure size 640x480 with 1 Axes>"
      ]
     },
     "metadata": {},
     "output_type": "display_data"
    }
   ],
   "source": [
    "attributes = ['area', 'bedrooms', 'bathrooms']\n",
    "influence = np.abs(linear_regression.w)\n",
    "plt.bar(attributes, influence)\n",
    "plt.xlabel('Attributes')\n",
    "plt.ylabel('Importance')\n",
    "plt.title('Influence of attributes on the cost of housing')\n",
    "plt.show()"
   ]
  },
  {
   "cell_type": "markdown",
   "id": "4ccf1d6f",
   "metadata": {},
   "source": [
    "#### Find the same parameters using an analytical solution"
   ]
  },
  {
   "cell_type": "markdown",
   "id": "f0f44c49",
   "metadata": {},
   "source": [
    "Математичний вигляд Normal equation (аналітичного рішення) наступне: $$(\\vec{w})^* = (X^TX)^{-1}X^T\\vec{y}$$"
   ]
  },
  {
   "cell_type": "code",
   "execution_count": 14,
   "id": "566c1ce3",
   "metadata": {},
   "outputs": [
    {
     "name": "stdout",
     "output_type": "stream",
     "text": [
      "(3,)\n",
      "(545, 3)\n",
      "(545,)\n",
      "The best analitical w:  [0.51550397 0.25511989 0.34191443]\n",
      "The best analitical loss function:  0.02073607533747462\n"
     ]
    }
   ],
   "source": [
    "analitical_w = np.dot(np.dot(np.linalg.inv(np.dot(X.T, X)), X.T), y)\n",
    "print(analitical_w.shape)\n",
    "print(X.shape)\n",
    "print(y.shape)\n",
    "analitical_loss = cost(X, y.reshape(-1, 1), analitical_w)\n",
    "print('The best analitical w: ', analitical_w.flatten())\n",
    "print('The best analitical loss function: ', analitical_loss)"
   ]
  },
  {
   "cell_type": "markdown",
   "id": "2d2e9966",
   "metadata": {},
   "source": [
    "#### Compare the results"
   ]
  },
  {
   "cell_type": "code",
   "execution_count": 15,
   "id": "15238707",
   "metadata": {},
   "outputs": [
    {
     "name": "stdout",
     "output_type": "stream",
     "text": [
      "Results by using LinearRegression class:\n",
      "The best parameters w: [1.1957634321117654, -0.07641936545742045, 5.729825751558018], loss:0.013944301005715282, found by 999 iterations\n",
      "--------------------------------------------------\n",
      "Results by using analitical solution: \n",
      "The best parameters w: [0.51550397 0.25511989 0.34191443], loss:0.02073607533747462\n"
     ]
    }
   ],
   "source": [
    "print('Results by using LinearRegression class:')\n",
    "print(result)\n",
    "print('-'*50)\n",
    "print('Results by using analitical solution: ')\n",
    "print(f\"The best parameters w: {analitical_w}, loss:{analitical_loss}\")"
   ]
  },
  {
   "cell_type": "markdown",
   "id": "5480a11c",
   "metadata": {},
   "source": [
    "Conclusion: As we can see, in this case the losses using the LinearRegression class are less than when using the analytical solution."
   ]
  },
  {
   "cell_type": "code",
   "execution_count": null,
   "id": "06d1b409",
   "metadata": {},
   "outputs": [],
   "source": []
  }
 ],
 "metadata": {
  "kernelspec": {
   "display_name": "Python 3 (ipykernel)",
   "language": "python",
   "name": "python3"
  },
  "language_info": {
   "codemirror_mode": {
    "name": "ipython",
    "version": 3
   },
   "file_extension": ".py",
   "mimetype": "text/x-python",
   "name": "python",
   "nbconvert_exporter": "python",
   "pygments_lexer": "ipython3",
   "version": "3.9.7"
  }
 },
 "nbformat": 4,
 "nbformat_minor": 5
}
